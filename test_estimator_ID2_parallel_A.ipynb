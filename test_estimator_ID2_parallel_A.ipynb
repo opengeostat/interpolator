{
 "cells": [
  {
   "cell_type": "markdown",
   "metadata": {},
   "source": [
    "# Invers to the power of the distance"
   ]
  },
  {
   "cell_type": "code",
   "execution_count": 1,
   "metadata": {},
   "outputs": [],
   "source": [
    "import numpy as np\n",
    "from matplotlib import pyplot as plt\n",
    "from neighborhood import Neighborhood\n",
    "from estimator import Estimator\n",
    "%matplotlib inline"
   ]
  },
  {
   "cell_type": "code",
   "execution_count": 2,
   "metadata": {},
   "outputs": [],
   "source": [
    "# generate some fake data \n",
    "np.random.seed(0)\n",
    "x = np.random.rand(100, 3) # a 3D dataset\n",
    "x[:,2]=0 # make it 2D\n",
    "v =  np.random.rand(100, 2) # two variables \n",
    "\n",
    "# generate target (a grid)\n",
    "nx, ny, nz = (2000, 2000, 1)\n",
    "xt = np.linspace(0, 1, nx)\n",
    "yt = np.linspace(0, 1, ny)\n",
    "zt = np.linspace(0, 0, nz)\n",
    "x0, y0, z0 = np.meshgrid(xt, yt, zt)\n",
    "\n",
    "\n",
    "#plt.plot(x0.ravel(),y0.ravel(),'.')\n",
    "#plt.scatter(x[:,0],x[:,1],c = v[:,0], edgecolors = 'k')\n"
   ]
  },
  {
   "cell_type": "code",
   "execution_count": 3,
   "metadata": {},
   "outputs": [],
   "source": [
    "n = Neighborhood(x[:,0],x[:,1],x[:,2], a = [[0.3,0.1,0.1],[0.3,0.3,0.3]], rot=[[45,0,0],[-45,0,0]], \n",
    "                 v = v, vname = ['v1','v2'], vmeta = ['a random variable', 'a random variable'])"
   ]
  },
  {
   "cell_type": "code",
   "execution_count": 4,
   "metadata": {},
   "outputs": [],
   "source": [
    "e =Estimator(x0.ravel(), y0.ravel(), z0.ravel(), search = n)"
   ]
  },
  {
   "cell_type": "code",
   "execution_count": 5,
   "metadata": {},
   "outputs": [
    {
     "name": "stderr",
     "output_type": "stream",
     "text": [
      "C:\\OG_Python\\interpolator\\estimator.py:87: RuntimeWarning: invalid value encountered in double_scalars\n",
      "  r.append(np.sum(self.search.v[k][self.search.test]*d,axis = 0)/np.sum(d))\n"
     ]
    },
    {
     "name": "stdout",
     "output_type": "stream",
     "text": [
      "3min 22s ± 3.74 s per loop (mean ± std. dev. of 7 runs, 1 loop each)\n"
     ]
    }
   ],
   "source": [
    "%timeit e.id_power(debug = False, power = 3, parallel=False)"
   ]
  },
  {
   "cell_type": "code",
   "execution_count": 6,
   "metadata": {},
   "outputs": [
    {
     "name": "stdout",
     "output_type": "stream",
     "text": [
      "2min 39s ± 2.06 s per loop (mean ± std. dev. of 7 runs, 1 loop each)\n"
     ]
    }
   ],
   "source": [
    "%timeit e.id_power(debug = False, power = 3, parallel=True)"
   ]
  },
  {
   "cell_type": "code",
   "execution_count": null,
   "metadata": {},
   "outputs": [],
   "source": []
  }
 ],
 "metadata": {
  "kernelspec": {
   "display_name": "Python 3",
   "language": "python",
   "name": "python3"
  },
  "language_info": {
   "codemirror_mode": {
    "name": "ipython",
    "version": 3
   },
   "file_extension": ".py",
   "mimetype": "text/x-python",
   "name": "python",
   "nbconvert_exporter": "python",
   "pygments_lexer": "ipython3",
   "version": "3.7.3"
  }
 },
 "nbformat": 4,
 "nbformat_minor": 2
}
